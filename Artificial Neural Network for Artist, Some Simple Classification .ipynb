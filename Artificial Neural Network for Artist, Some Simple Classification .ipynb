{
 "cells": [
  {
   "cell_type": "markdown",
   "metadata": {},
   "source": [
    "## Clasification\n",
    "\n",
    "### Classifying simple Images\n",
    "We leaned how we can train a neural network to learn the logic of an AND gate. Probably it was a good example but not as exiting. \n",
    "\n",
    "Aritifical Neural Networks are Universal Classifiers, this mean that if we are able to get information in a computable form and specify some classification classes we can pretty much train a neural network classify this infomration accurately.\n",
    "\n",
    "### The MNIST Dataset\n",
    "The MNIST Dataset is composed of 80 thousand digit images of 28 by 28 pixel resolution. The digits of these images are numbers from 0 to 9 handwritten by several people. Yann Le Cunn, the neural network god, used this dataset as a classification problem for zipcode numbers.\n",
    "\n",
    "\n",
    "\n"
   ]
  },
  {
   "cell_type": "code",
   "execution_count": 2,
   "metadata": {
    "collapsed": true
   },
   "outputs": [],
   "source": [
    "'''Importing libraries'''\n",
    "import matplotlib.pyplot as plt\n",
    "import matplotlib.image as mpimg\n",
    "import cPickle, gzip\n",
    "import numpy as np\n",
    "import math\n",
    "%matplotlib inline\n",
    "\n",
    "'''Reading the dataset'''\n",
    "f = gzip.open('mnist.pkl.gz', 'rb')\n",
    "train_set, valid_set, test_set = cPickle.load(f)\n",
    "f.close()\n",
    "\n",
    "train_set_data = train_set[0][:2000]\n",
    "train_set_labels = train_set[1][:2000]\n",
    "test_set_data = test_set[0][:500]\n",
    "test_set_labels = test_set[1][:500]\n"
   ]
  },
  {
   "cell_type": "code",
   "execution_count": 4,
   "metadata": {
    "collapsed": false
   },
   "outputs": [
    {
     "data": {
      "image/png": "[encoded data removed]",
      "text/plain": [
       "<matplotlib.figure.Figure at 0x102d94bd0>"
      ]
     },
     "metadata": {},
     "output_type": "display_data"
    }
   ],
   "source": [
    "'''Reformating the image array into a matrix'''\n",
    "counter = 0\n",
    "imgArray  = []\n",
    "row = []\n",
    "for i in train_set_data[10]:\n",
    "    if(counter%28 == 0):\n",
    "        if counter !=0 : \n",
    "            imgArray.append(row)\n",
    "        row = []\n",
    "    row.append(i)\n",
    "    counter+=1\n",
    "imgArray.append(row)\n",
    "plt.title(\"Example image of the MNIST Dataset\")\n",
    "digit = plt.imshow(imgArray, cmap='Greys',  interpolation='nearest')\n"
   ]
  },
  {
   "cell_type": "markdown",
   "metadata": {},
   "source": [
    "### The Classificaiton Problem\n",
    "On the previous lesson we used a single neuron since we only cared about a single output. In the case of classification we need a neuron per class or in this case per digit. The neuron that will have the highest output value will be the one that determines the correct classification. \n",
    "\n",
    "As an example, in this classification problem we will have 10 neurons each taking the product sum (sum of weight*pixel vale) of the pixel values with their respective weight value into its activation function. \n",
    "\n",
    "#### Single Neuron example\n",
    "\n",
    "![alt text](https://deeplearning4j.org/img/perceptron_node.png \"Logo Title Text 1\")\n",
    "\n",
    "In this case, if we want to classify the number 6 in our images the sixth output neuron will have a higuer value with respect to the other values. If we think in terms of probability we will have a probability distribution over each of the classes and the output with the higuest probability will determine the classification.\n",
    "\n",
    "### Softmax for classification\n",
    "We are going to built and train a neural network to classify an image into a digit, but first we need a smarter activation function. \n",
    "\n",
    "Softmax is a function that can give us the probability of a class given the output of all the neurons. In other, it is a function that creates a probability distribution among all classes. \n",
    "\n",
    "#### Softmax:\n",
    "![alt text](https://wikimedia.org/api/rest_v1/media/math/render/svg/001ce4c2c74e78a66a4d7d04ab92cbd0d0fdec02 \"Logo Title Text 1\")\n",
    "\n",
    "In this case j is the category that we want to get the probability of given the input x, which is multiplied by its appropiate weights. \n",
    "\n",
    "We do not have to go deep into the meaning of the function we just need to know that it is the best activation function for classification. \n",
    "\n",
    "### Learning rule\n",
    "The learning rule for softmax focuses on reducing an error function. The way to reduce the error is to move the weight parameters in the direction of the descreasing rate of change in order to archieve a minimum error. \n",
    "\n",
    "For softmax the error function is Cross Entropy. For practical puposes we will just describe the derived learning rule for softmax. You can learn more about this function and the derivation as a learning rule online.\n",
    "\n",
    "The learning rule for the weights is defined as:\n",
    "\n",
    "$$ w_{ik}(t+1) = w_{ik}(t) + \\alpha * (teacher - output) *x_i $$\n",
    "\n",
    "This is for a particular weight from input i to category or neuron k.  \n",
    "\n",
    "Does it look familiar?\n",
    "\n",
    "Yes, it is the same as the perceptron. For some reason the math works out giving us an universal learning rule that can be applied to multiple activation functions(softmax as an example).\n"
   ]
  },
  {
   "cell_type": "markdown",
   "metadata": {},
   "source": [
    "#### Lets jump into an example aka Gradiend Descent. \n",
    "Lets build a neural network that takes all the pixel as inputs, they get multiplied by their respective weights and plug in into their respective activation functions. \n",
    "\n",
    "In Neural Networks we defined the input layer as the point where the infomation gets passed in. In this case, our input layer will be all the pixels going into the network. \n",
    "\n",
    "The output layer is defined, as the result of the neural nework operation. In this case, we will have an output layer consiting of an array of size 10 which defines the probability of each digit. The maximum value on that array defines the correct classification. \n",
    "\n",
    "![alt text](https://usercontent1.hubstatic.com/3993124_f260.jpg \"Logo Title Text 1\")\n",
    "\n",
    "In the case of this problem we will have each pixel as an input which will have an appropiate weight to an output. The total number of weights will be (25 \\* 25)+1 [pixels] * 10[categories]. We add an extra input as the bias term.\n",
    "\n",
    "In this case the teacher will be 0 or one depending which category k we are trying to learn. \n",
    "The output will be a a probability value from 0-1.\n",
    "\n",
    "To build the neural network we have to do these simple steps:\n",
    "\n",
    "1. Get the input pixel vector multiply it by their respective category weights.\n",
    "2. Plug in the result into the softmax equation.\n",
    "3. Calculate the delta(error) teacher-output.\n",
    "4. Update the weights using the learning rule. \n",
    "5. Repeat for every example.\n",
    "\n",
    "Steps 1 and 2 are called **Forward Propagation**, since we are propagating the inputs into the outputs. \n",
    "\n",
    "Steps 3 and 4 are the **Learning** steps. \n",
    "\n",
    "train_set_data contains an array of pixels and  train_set_labels contains its appropiate labeled classification. \n",
    "Here is an example:\n",
    "\n"
   ]
  },
  {
   "cell_type": "code",
   "execution_count": 5,
   "metadata": {
    "collapsed": false
   },
   "outputs": [
    {
     "name": "stdout",
     "output_type": "stream",
     "text": [
      "Image array length 784 Classigication lavel:  5\n"
     ]
    }
   ],
   "source": [
    "print \"Image array length\", len(train_set_data[0]), \"Classigication lavel: \", train_set_labels[0]"
   ]
  },
  {
   "cell_type": "markdown",
   "metadata": {},
   "source": [
    "## Lets build the neural network :\n",
    "### Lets start by adding the bias term to each image array:"
   ]
  },
  {
   "cell_type": "code",
   "execution_count": 6,
   "metadata": {
    "collapsed": false
   },
   "outputs": [],
   "source": [
    "'''Initializing the new image array'''\n",
    "new_train_set_date = []\n",
    "for image in train_set_data:\n",
    "    '''Appending the bias value 1'''\n",
    "    image = np.append(image,1)\n",
    "    '''appending the new image to the new image array'''\n",
    "    new_train_set_date.append(image)\n",
    "\n",
    "    \n",
    "    \n",
    "new_test_set_date = []\n",
    "for image in test_set_data:\n",
    "    '''Appending the bias value 1'''\n",
    "    image = np.append(image,1)\n",
    "    '''appending the new image to the new image array'''\n",
    "    new_test_set_date.append(image)\n",
    "    \n",
    "    \n",
    "    \n",
    "'''Updating the old array witht the new one'''\n",
    "train_set_data = new_train_set_date\n",
    "test_set_data = new_test_set_date"
   ]
  },
  {
   "cell_type": "code",
   "execution_count": 7,
   "metadata": {
    "collapsed": false
   },
   "outputs": [
    {
     "data": {
      "text/plain": [
       "785"
      ]
     },
     "execution_count": 7,
     "metadata": {},
     "output_type": "execute_result"
    }
   ],
   "source": [
    "len(test_set_data[0])"
   ]
  },
  {
   "cell_type": "markdown",
   "metadata": {},
   "source": [
    "### Its time to initialize the weights to zero. "
   ]
  },
  {
   "cell_type": "code",
   "execution_count": 8,
   "metadata": {
    "collapsed": false
   },
   "outputs": [],
   "source": [
    "'''Defined dimensions'''\n",
    "ncols = 785\n",
    "nrows = 10\n",
    "\n",
    "'''Use python syntax magic to create a matrix'''\n",
    "weights = [[0] * ncols for i in range(nrows)]"
   ]
  },
  {
   "cell_type": "markdown",
   "metadata": {},
   "source": [
    "### Convert label value into a hot encoding array. \n",
    "This means that for each image we create an array of 10 categories. Only the index of the correct category has a 1 the other get 0."
   ]
  },
  {
   "cell_type": "code",
   "execution_count": 9,
   "metadata": {
    "collapsed": true
   },
   "outputs": [],
   "source": [
    "label_encoding = []\n",
    "for label in train_set_labels:\n",
    "    encode = [0]*10\n",
    "    encode[label] = 1\n",
    "    label_encoding.append(encode)"
   ]
  },
  {
   "cell_type": "markdown",
   "metadata": {},
   "source": [
    "### Defining the softmax function with 10 categories (k=10)"
   ]
  },
  {
   "cell_type": "code",
   "execution_count": 10,
   "metadata": {
    "collapsed": true
   },
   "outputs": [],
   "source": [
    "def softmax(net_values):\n",
    "    '''Softmax function denominator'''\n",
    "    denominator = 0\n",
    "    \n",
    "    exp_values = []\n",
    "    '''Adding all the exponent of the net values together and saving their value'''\n",
    "    for val in net_values:\n",
    "        exponent = math.exp(val)\n",
    "        \n",
    "        exp_values.append( exponent)\n",
    "        denominator += exponent\n",
    "    \n",
    "    '''Calculating the softmax value by doing the division'''\n",
    "    softmax_array = []\n",
    "    for val in exp_values:\n",
    "        softmax_array.append(val/denominator)\n",
    "    \n",
    "    '''Returning the result'''\n",
    "    return softmax_array\n"
   ]
  },
  {
   "cell_type": "markdown",
   "metadata": {},
   "source": [
    "### Lets code the first two steps **Forward Propagation**"
   ]
  },
  {
   "cell_type": "code",
   "execution_count": 11,
   "metadata": {
    "collapsed": true
   },
   "outputs": [],
   "source": [
    "def forwardPropagation(image,weights):\n",
    "    net_values = []\n",
    "\n",
    "    '''Iterating thorugh each of the categories'''\n",
    "    for category in range(0,10):\n",
    "\n",
    "        weighted_sum = 0\n",
    "        '''Calculating the weighted sum over all pixels on the image'''\n",
    "        for i,pixel in enumerate(image):\n",
    "            weighted_sum += weights[category][i]*pixel\n",
    "\n",
    "        '''Appending to the net value array'''\n",
    "        net_values.append(weighted_sum)\n",
    "\n",
    "    '''Calculating the neural network output'''\n",
    "    output = softmax(net_values)\n",
    "    return output"
   ]
  },
  {
   "cell_type": "markdown",
   "metadata": {},
   "source": [
    "### Now lets make that neural network learn, Step 3 and 4\n"
   ]
  },
  {
   "cell_type": "code",
   "execution_count": 12,
   "metadata": {
    "collapsed": false
   },
   "outputs": [],
   "source": [
    "def learning(image, weights, image_index, alpha):\n",
    "    '''Getting the deltas'''\n",
    "    deltas = []\n",
    "    for cat, out_val in enumerate(output):\n",
    "        deltas.append(label_encoding[image_index][cat] - out_val)\n",
    "\n",
    "    '''Update the weights'''\n",
    "    for category in range(0,10):\n",
    "        '''Calculating the weighted sum over all pixels on the image'''\n",
    "        for i,pixel in enumerate(image):\n",
    "            weights[category][i] = weights[category][i] + alpha*deltas[category]*pixel\n",
    "    \n",
    "    return weights"
   ]
  },
  {
   "cell_type": "markdown",
   "metadata": {},
   "source": [
    "### Time to iterate over the dataset and train our network \n",
    "An epoch is defined to be a complete look over all the training dataset. \n",
    "We need to go over the whole dataset more that once since we might not be able to train our neural network enough."
   ]
  },
  {
   "cell_type": "code",
   "execution_count": 13,
   "metadata": {
    "collapsed": false
   },
   "outputs": [
    {
     "name": "stdout",
     "output_type": "stream",
     "text": [
      "Image Number: \n",
      "100 200 300 400 500 600 700 800 900 1000 1100 1200 1300 1400 1500 1600 1700 1800 1900 Done\n"
     ]
    }
   ],
   "source": [
    "number_of_epochs = 1\n",
    "alpha = 0.01\n",
    "\n",
    "image_counter = 0\n",
    "''''''\n",
    "for epoch in range(number_of_epochs):\n",
    "    '''Iterating throught the data set'''\n",
    "    print \"Image Number: \"\n",
    "    for index,image in enumerate(train_set_data):\n",
    "        \n",
    "        if(image_counter == 100):\n",
    "            image_counter = 0\n",
    "            print index,\n",
    "            \n",
    "        output = forwardPropagation(image,weights)\n",
    "        \n",
    "        weights = learning(image, weights, index,alpha)\n",
    "        \n",
    "        image_counter+=1\n",
    "    print \"Done\""
   ]
  },
  {
   "cell_type": "markdown",
   "metadata": {},
   "source": [
    "### Calculating Accuracy\n",
    "Accuracy can be defined by the number of correct classificatoin over the total number of samples. \n",
    "\n",
    "We can do this by simply running forward propagation over the testing set and counting if it was classified correctly.\n",
    "\n",
    "Lets code a accuracy check function."
   ]
  },
  {
   "cell_type": "code",
   "execution_count": 14,
   "metadata": {
    "collapsed": false
   },
   "outputs": [],
   "source": [
    "def accuracyCheck(weights, dataset, labels):\n",
    "    '''Initialize the number of correct values'''\n",
    "    correct = 0\n",
    "    \n",
    "    '''Iterate through all the images'''\n",
    "    for index,image in enumerate(dataset):\n",
    "        \n",
    "        '''Applying forward propagation on the images'''\n",
    "        output = forwardPropagation(image,weights)\n",
    "        \n",
    "        '''Getting the max val from the output'''\n",
    "        max_val = 0\n",
    "        max_index = -1\n",
    "        for i, out_val in enumerate(output):\n",
    "            if out_val > max_val:\n",
    "                max_val = out_val\n",
    "                max_index = i\n",
    "        \n",
    "        '''Comparing to the correct label, and update the correct count'''\n",
    "        if max_index == labels[index]:\n",
    "            correct+=1\n",
    "    '''Print the accuracy #correct/total'''\n",
    "    print (correct*1.0/len(labels))"
   ]
  },
  {
   "cell_type": "markdown",
   "metadata": {},
   "source": [
    "Accuracy is useful to undestand how good our neural network is at modeling data. Specially data that it have not seen before. \n",
    "This is why we check the accuracy on a testing set, which is data that the network have not seen before and training set which is the data that it already seen."
   ]
  },
  {
   "cell_type": "code",
   "execution_count": 15,
   "metadata": {
    "collapsed": false
   },
   "outputs": [
    {
     "name": "stdout",
     "output_type": "stream",
     "text": [
      "Train Accuracy:  0.8955\n",
      "Test Accuracy:  0.848\n"
     ]
    }
   ],
   "source": [
    "'''Print out the accuracy values of train set and test set.'''\n",
    "print \"Train Accuracy: \",\n",
    "accuracyCheck(weights, train_set_data, train_set_labels)\n",
    "print \"Test Accuracy: \",\n",
    "accuracyCheck(weights, test_set_data, test_set_labels)"
   ]
  },
  {
   "cell_type": "code",
   "execution_count": null,
   "metadata": {
    "collapsed": true
   },
   "outputs": [],
   "source": []
  }
 ],
 "metadata": {
  "kernelspec": {
   "display_name": "Python 2",
   "language": "python",
   "name": "python2"
  },
  "language_info": {
   "codemirror_mode": {
    "name": "ipython",
    "version": 2
   },
   "file_extension": ".py",
   "mimetype": "text/x-python",
   "name": "python",
   "nbconvert_exporter": "python",
   "pygments_lexer": "ipython2",
   "version": "2.7.10"
  }
 },
 "nbformat": 4,
 "nbformat_minor": 0
}
