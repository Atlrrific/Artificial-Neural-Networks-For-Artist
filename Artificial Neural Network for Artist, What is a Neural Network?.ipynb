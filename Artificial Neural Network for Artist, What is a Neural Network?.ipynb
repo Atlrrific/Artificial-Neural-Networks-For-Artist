{
 "cells": [
  {
   "cell_type": "markdown",
   "metadata": {},
   "source": [
    "# What is an Artificial Neural Network:\n",
    "An artificial neural network is a computational model that loosely resembles the way our brain works.\n",
    "\n",
    "As far as we know, our brain is made up of neurons that get \"triggered\" depending on the information we capture with in our senses. For example, whenever we heard the voice of somebody we know our brain processes the sound information  and classify it to match the person that we are familiar with. \n",
    "\n",
    "In the Artificial Neural Network world we have artificial neurons that get triggered or activated given some numerical value. "
   ]
  },
  {
   "cell_type": "markdown",
   "metadata": {},
   "source": [
    "### The Perceptron\n",
    "The Perceptron might be an example of the simplest artificial neuron that we can possible represent.\n",
    "It takes in an input and gets activated if we have reached certain threshold( $\\theta$).\n",
    "The value that goes into the perceptron is composed of a sum of the product of weights and input parameters. \n",
    "\n",
    "\n",
    "$$\n",
    "  PERCEPTRON : f(x) =  \\left\\{\n",
    "\\begin{array}{ll}\n",
    "      1 & \\sum\\limits_{inputs}  w_i * x_i >  \\theta \\\\\n",
    "      0 & otherwise \\\\\n",
    "\\end{array} \n",
    "\\right. \n",
    "$$\n",
    "\n",
    "Which can be translated to: \n",
    "$$\n",
    "  PERCEPTRON : f(x) =  \\left\\{\n",
    "\\begin{array}{ll}\n",
    "      1 & \\sum\\limits_{inputs}  w_i * x_i - \\theta >  0 \\\\\n",
    "      0 & otherwise \\\\\n",
    "\\end{array} \n",
    "\\right. \n",
    "$$\n",
    "\n",
    "#### The Weights\n",
    "These weights are the part of a neural network that is dynamic and learns from examples. Changes in this weights get adapted in order to optimize a desire output.\n",
    "In addition, the threshold  $\\theta$  gets adapted in order to get a desired outcome.\n",
    "\n",
    "#### The Theta term or Bias\n",
    "The theta term on the equation is called the bias term. Normally when neural networks get trained it is the first term that learns features on the input since it is always active and positive. We will discuss a little more about the Bias on more complex neural networks.\n"
   ]
  },
  {
   "cell_type": "code",
   "execution_count": 2,
   "metadata": {
    "collapsed": false
   },
   "outputs": [
    {
     "data": {
      "image/png": "[encoded data removed]",
      "text/plain": [
       "<matplotlib.figure.Figure at 0x10dd5c110>"
      ]
     },
     "metadata": {},
     "output_type": "display_data"
    }
   ],
   "source": [
    "%matplotlib inline\n",
    "\n",
    "import numpy as np\n",
    "import matplotlib.pyplot as plt\n",
    "\n",
    "\n",
    "x = np.arange(1, 14, 1)\n",
    "y = [0]*(int(len(x)/2))\n",
    "y+= [1]*(int(len(x)/2)+1)\n",
    "plt.step(x, y, label='pre (default)')\n",
    "plt.ylim(-1, 2)\n",
    "plt.xlim(2, 10)\n",
    "plt.title(\"Perceptron Function with theta = 6\")\n",
    "\n",
    "plt.show()"
   ]
  },
  {
   "cell_type": "markdown",
   "metadata": {},
   "source": [
    "\n",
    "### Learning Rule\n",
    "In order for the perceptron to output the correct value it has to learn from previous examples. \n",
    "Learning happens when a perceptron makes a mistake. In this case the perceptron adapts its parameters in order to output the correct result given its inputs. \n",
    "The weights get updated and the threshold might change. \n",
    "\n",
    "The learning rule for the weights is defined as:\n",
    "\n",
    "$$ w_1(t+1) = w_i(t) + \\alpha * (teacher - output) *x_i $$\n",
    "\n",
    "Where the teacher is the expected result and output is the current output of the neural network. \n",
    "If the neural network makes a mistake the difference of the teacher and output will inflict some change on a particular weight on the neural network , otherwise the network will stay the same.\n",
    "\n",
    "The learning rate $\\alpha$ defines the amount of change that is inflicted over a weight when it makes a mistake. \n",
    "\n",
    "### AND Gate Example\n",
    "Lets consider an AND logical gate.\n",
    "\n",
    "| X   | Y  | Output |\n",
    "| ---- |:----:| ----:|\n",
    "| 0   | 0 | 0 |\n",
    "| 1   | 0 | 0 |\n",
    "| 0   | 1 | 0 |\n",
    "| 1   | 1 | 1 |\n",
    "\n",
    "It is only one if both inputs are one, otherwise the output is zero. \n",
    "\n",
    "We can make a model of an AND function using a perceptron neuron. \n",
    "Recall the perceptron function, it takes into account the weighted sum of an input which in this case is the X and Y binary inputs. \n",
    "We can initialize the weights to zero. \n",
    "\n",
    "So the propagation of the inputs to the output of this neural network will be:\n",
    "\n",
    "$$\n",
    "  output =  \\left\\{\n",
    "\\begin{array}{ll}\n",
    "      1 & \\sum\\limits_{inputs} = w_i * x_i >  \\theta \\\\\n",
    "      0 & otherwise \\\\\n",
    "\\end{array} \n",
    "\\right. \n",
    "$$\n",
    "\n",
    "Which is equal to:\n",
    "\n",
    "$$\n",
    "  output =  \\left\\{\n",
    "\\begin{array}{ll}\n",
    "      1 & if: w_x * x +  w_y * y  - \\theta >  0 \\\\\n",
    "      0 & otherwise \\\\\n",
    "\\end{array} \n",
    "\\right. \n",
    "$$\n",
    "\n",
    "$\\theta $ is the bias term since it is always on.\n"
   ]
  },
  {
   "cell_type": "code",
   "execution_count": 4,
   "metadata": {
    "collapsed": false
   },
   "outputs": [
    {
     "name": "stdout",
     "output_type": "stream",
     "text": [
      "|X_2 \t| X_1 \t| T \t| W_1 \t| W_2\t|delta \t|\n",
      "|Epoch: 0 \t|\t|\t|\t|\t|\n",
      "| 0 \t| 0 \t| 0 \t| 0.0 \t| 0.0 \t| -1 \t|\n",
      "| 0 \t| 1 \t| 0 \t| 0.0 \t| 0.0 \t| 0 \t|\n",
      "| 1 \t| 0 \t| 0 \t| 0.0 \t| 0.0 \t| 0 \t|\n",
      "| 1 \t| 1 \t| 1 \t| 0.5 \t| 0.5 \t| 1 \t|\n",
      "|Epoch: 1 \t|\t|\t|\t|\t|\n",
      "| 0 \t| 0 \t| 0 \t| 0.5 \t| 0.5 \t| -1 \t|\n",
      "| 0 \t| 1 \t| 0 \t| 0.5 \t| 0.0 \t| -1 \t|\n",
      "| 1 \t| 0 \t| 0 \t| 0.5 \t| 0.0 \t| 0 \t|\n",
      "| 1 \t| 1 \t| 1 \t| 1.0 \t| 0.5 \t| 1 \t|\n",
      "|Epoch: 2 \t|\t|\t|\t|\t|\n",
      "| 0 \t| 0 \t| 0 \t| 1.0 \t| 0.5 \t| 0 \t|\n",
      "| 0 \t| 1 \t| 0 \t| 1.0 \t| 0.0 \t| -1 \t|\n",
      "| 1 \t| 0 \t| 0 \t| 0.5 \t| 0.0 \t| -1 \t|\n",
      "| 1 \t| 1 \t| 1 \t| 1.0 \t| 0.5 \t| 1 \t|\n",
      "|Epoch: 3 \t|\t|\t|\t|\t|\n",
      "| 0 \t| 0 \t| 0 \t| 1.0 \t| 0.5 \t| 0 \t|\n",
      "| 0 \t| 1 \t| 0 \t| 1.0 \t| 0.5 \t| 0 \t|\n",
      "| 1 \t| 0 \t| 0 \t| 0.5 \t| 0.5 \t| -1 \t|\n",
      "| 1 \t| 1 \t| 1 \t| 1.0 \t| 1.0 \t| 1 \t|\n",
      "|Epoch: 4 \t|\t|\t|\t|\t|\n",
      "| 0 \t| 0 \t| 0 \t| 1.0 \t| 1.0 \t| 0 \t|\n",
      "| 0 \t| 1 \t| 0 \t| 1.0 \t| 0.5 \t| -1 \t|\n",
      "| 1 \t| 0 \t| 0 \t| 1.0 \t| 0.5 \t| 0 \t|\n",
      "| 1 \t| 1 \t| 1 \t| 1.0 \t| 0.5 \t| 0 \t|\n",
      "|Epoch: 5 \t|\t|\t|\t|\t|\n",
      "| 0 \t| 0 \t| 0 \t| 1.0 \t| 0.5 \t| 0 \t|\n",
      "| 0 \t| 1 \t| 0 \t| 1.0 \t| 0.5 \t| 0 \t|\n",
      "| 1 \t| 0 \t| 0 \t| 1.0 \t| 0.5 \t| 0 \t|\n",
      "| 1 \t| 1 \t| 1 \t| 1.0 \t| 0.5 \t| 0 \t|\n"
     ]
    }
   ],
   "source": [
    "\n",
    "'''Lets run an AND logical example'''\n",
    "\n",
    "'''Initialize the weights'''\n",
    "w = [0,0]\n",
    "theta = 0\n",
    "alpha = 0.5\n",
    "'''The expected value of the the and gate'''\n",
    "x_labels = [0,0,0,1]\n",
    "\n",
    "'''And gate inputs'''\n",
    "x_values = [(0,0),(0,1),(1,0), (1,1)]\n",
    "\n",
    "print \"|X_2 \\t| X_1 \\t| T \\t| W_1 \\t| W_2\\t|delta \\t|\"\n",
    "\n",
    "'''Setting up the learning rate'''\n",
    "error = True\n",
    "\n",
    "'''Iterating 6 times over the data'''\n",
    "for epoch in range(0,6):\n",
    "    print \"|Epoch:\",epoch,\"\\t|\\t|\\t|\\t|\\t|\"\n",
    "    for index, value in enumerate (x_values):\n",
    "\n",
    "        '''Calculate net output from the perceptron'''\n",
    "        net  = w[0]*value[0] + w[1]*value[1]  \n",
    "        \n",
    "        '''Check if we reached the threshold'''\n",
    "        if(net >= theta): \n",
    "            output = 1 \n",
    "        else: \n",
    "            output = 0\n",
    "\n",
    "        '''Calculating the delta'''\n",
    "        delta = x_labels[index] - output\n",
    "\n",
    "        w[0] = w[0] + alpha*(delta)*value[0]\n",
    "        w[1] = w[1] + alpha*(delta)*value[1]\n",
    "\n",
    "        if delta > 0:\n",
    "            theta -= alpha\n",
    "        elif delta < 0:\n",
    "            theta += alpha\n",
    "\n",
    "        print \"|\",value[0],\"\\t|\",value[1],\"\\t|\",x_labels[index], \"\\t|\",w[0],\"\\t|\", w[1],\"\\t|\", delta,\"\\t|\""
   ]
  },
  {
   "cell_type": "markdown",
   "metadata": {},
   "source": [
    "### Conclusion\n",
    "As we saw in the example everytime the Neural Network did a mistake it updated its weights and bias term. Sometimes these changes balanced out over time, however at the end the was able to learn how to output the correct result form an AND gate given two values. \n",
    "\n",
    "On the next session we will learn about classification and more complex neural networks."
   ]
  },
  {
   "cell_type": "code",
   "execution_count": null,
   "metadata": {
    "collapsed": true
   },
   "outputs": [],
   "source": []
  }
 ],
 "metadata": {
  "kernelspec": {
   "display_name": "Python 2",
   "language": "python",
   "name": "python2"
  },
  "language_info": {
   "codemirror_mode": {
    "name": "ipython",
    "version": 2
   },
   "file_extension": ".py",
   "mimetype": "text/x-python",
   "name": "python",
   "nbconvert_exporter": "python",
   "pygments_lexer": "ipython2",
   "version": "2.7.10"
  }
 },
 "nbformat": 4,
 "nbformat_minor": 0
}
